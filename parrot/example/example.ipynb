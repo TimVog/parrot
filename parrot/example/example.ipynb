{
 "cells": [
  {
   "cell_type": "markdown",
   "id": "ae0db39b-f0d5-4fc6-924e-3cb1560391f4",
   "metadata": {},
   "source": [
    "Last edit: 2024-07-22\n",
    "# Example notebook - How to use 🦜 in a jupyter notebook\n",
    "Here you can see how *parrot* can be used to read-in continous recorded data (contained in the folder `example_data`) and how this data can be processed and plotted.\n",
    "\n",
    "The second example notebook processes the same dataset in a more compact fashion."
   ]
  },
  {
   "cell_type": "code",
   "execution_count": 1,
   "id": "f0363f04-b18c-4f1b-b2a7-fef2b4791cc5",
   "metadata": {},
   "outputs": [],
   "source": [
    "# To locate the resources\n",
    "from importlib import resources\n",
    "# To read-in the raw data\n",
    "import h5py\n",
    "# To make intermedia plots\n",
    "import matplotlib.pyplot as plt\n",
    "from matplotlib.ticker import EngFormatter\n",
    "\n",
    "import parrot"
   ]
  },
  {
   "cell_type": "markdown",
   "id": "2daf3faf",
   "metadata": {},
   "source": [
    "Activate inline plotting (can be changed to `%matplotlib qt5` or `%matplotlib notebook`)"
   ]
  },
  {
   "cell_type": "code",
   "execution_count": 2,
   "id": "f09426ee",
   "metadata": {},
   "outputs": [],
   "source": [
    "%matplotlib inline"
   ]
  },
  {
   "cell_type": "markdown",
   "id": "42653660",
   "metadata": {},
   "source": [
    "To get more information, we activate the `debug`-mode of *parrot*. You can of course leave it also on `False`. Maybe see the other jupyter notebook for a more compact way of processing the data."
   ]
  },
  {
   "cell_type": "code",
   "execution_count": 3,
   "id": "9394e91a",
   "metadata": {},
   "outputs": [],
   "source": [
    "parrot.config.set_debug(True)"
   ]
  },
  {
   "cell_type": "code",
   "execution_count": 4,
   "id": "09b92426",
   "metadata": {},
   "outputs": [
    {
     "data": {
      "text/plain": [
       "<RootLogger root (INFO)>"
      ]
     },
     "execution_count": 4,
     "metadata": {},
     "output_type": "execute_result"
    }
   ],
   "source": [
    "parrot.config.logger"
   ]
  },
  {
   "cell_type": "markdown",
   "id": "aeb8cf97-7472-4289-b10c-b605c3abe003",
   "metadata": {},
   "source": [
    "Our example files are stored in the efficient binary format HDF-5, which can be read-in by Python, Matlab and other programs.\n",
    "If you want to learn more about this data format, check-out this YouTube-Tutorial series:\n",
    "https://www.youtube.com/watch?v=S74Kc8QYDac&list=PLPyhR4PdEeGYWHRhzmCP5stzfIha8bqVg\n",
    "\n",
    "But for our current purpose, this knowledge is not necessary, since we just read the files in:"
   ]
  },
  {
   "cell_type": "markdown",
   "id": "77951874",
   "metadata": {},
   "source": [
    "Check if example files in `example_data` are available, otherwise download from zenodo.org"
   ]
  },
  {
   "cell_type": "code",
   "execution_count": 5,
   "id": "ee67f4d4",
   "metadata": {},
   "outputs": [
    {
     "name": "stdout",
     "output_type": "stream",
     "text": [
      "###\n",
      "Could not find file light.h5.\n",
      "Downloading file light.h5...\n",
      "Downloaded correct file: light.h5\n",
      "###\n",
      "Could not find file dark1.h5.\n",
      "Downloading file dark1.h5...\n",
      "Downloaded correct file: dark1.h5\n",
      "###\n",
      "Could not find file dark2.h5.\n",
      "Downloading file dark2.h5...\n",
      "Downloaded correct file: dark2.h5\n"
     ]
    }
   ],
   "source": [
    "parrot.example.init.run()"
   ]
  },
  {
   "cell_type": "code",
   "execution_count": 7,
   "id": "169dcc12",
   "metadata": {},
   "outputs": [
    {
     "data": {
      "text/plain": [
       "<module 'parrot.example.init' from 'C:\\\\Users\\\\Tim\\\\AppData\\\\Local\\\\anaconda3\\\\Lib\\\\site-packages\\\\parrot\\\\example\\\\init.py'>"
      ]
     },
     "execution_count": 7,
     "metadata": {},
     "output_type": "execute_result"
    }
   ],
   "source": [
    "parrot.example.init"
   ]
  },
  {
   "cell_type": "code",
   "execution_count": 6,
   "id": "fcc23aee",
   "metadata": {},
   "outputs": [
    {
     "ename": "FileNotFoundError",
     "evalue": "[Errno 2] Unable to open file (unable to open file: name = 'C:\\Users\\Tim\\AppData\\Local\\anaconda3\\Lib\\site-packages\\parrot\\example\\example_data\\light.h5', errno = 2, error message = 'No such file or directory', flags = 0, o_flags = 0)",
     "output_type": "error",
     "traceback": [
      "\u001b[1;31m---------------------------------------------------------------------------\u001b[0m",
      "\u001b[1;31mFileNotFoundError\u001b[0m                         Traceback (most recent call last)",
      "Cell \u001b[1;32mIn[6], line 11\u001b[0m\n\u001b[0;32m      8\u001b[0m         data_dict \u001b[38;5;241m=\u001b[39m {\u001b[38;5;124m\"\u001b[39m\u001b[38;5;124mtime\u001b[39m\u001b[38;5;124m\"\u001b[39m: time, \u001b[38;5;124m\"\u001b[39m\u001b[38;5;124mposition\u001b[39m\u001b[38;5;124m\"\u001b[39m: position, \u001b[38;5;124m\"\u001b[39m\u001b[38;5;124msignal\u001b[39m\u001b[38;5;124m\"\u001b[39m: signal}\n\u001b[0;32m      9\u001b[0m     \u001b[38;5;28;01mreturn\u001b[39;00m data_dict\n\u001b[1;32m---> 11\u001b[0m light \u001b[38;5;241m=\u001b[39m get_data(\u001b[38;5;124m\"\u001b[39m\u001b[38;5;124mlight.h5\u001b[39m\u001b[38;5;124m\"\u001b[39m)\n\u001b[0;32m     12\u001b[0m dark1 \u001b[38;5;241m=\u001b[39m get_data(\u001b[38;5;124m\"\u001b[39m\u001b[38;5;124mdark1.h5\u001b[39m\u001b[38;5;124m\"\u001b[39m)\n\u001b[0;32m     13\u001b[0m dark2 \u001b[38;5;241m=\u001b[39m get_data(\u001b[38;5;124m\"\u001b[39m\u001b[38;5;124mdark2.h5\u001b[39m\u001b[38;5;124m\"\u001b[39m)\n",
      "Cell \u001b[1;32mIn[6], line 4\u001b[0m, in \u001b[0;36mget_data\u001b[1;34m(file_name)\u001b[0m\n\u001b[0;32m      2\u001b[0m \u001b[38;5;250m\u001b[39m\u001b[38;5;124;03m\"\"\"We load the downloaded example files inside the parrot-module.\"\"\"\u001b[39;00m\n\u001b[0;32m      3\u001b[0m my_file \u001b[38;5;241m=\u001b[39m (resources\u001b[38;5;241m.\u001b[39mfiles(parrot\u001b[38;5;241m.\u001b[39mexample\u001b[38;5;241m.\u001b[39mexample_data) \u001b[38;5;241m/\u001b[39m file_name)\n\u001b[1;32m----> 4\u001b[0m \u001b[38;5;28;01mwith\u001b[39;00m h5py\u001b[38;5;241m.\u001b[39mFile(my_file, \u001b[38;5;124m\"\u001b[39m\u001b[38;5;124mr\u001b[39m\u001b[38;5;124m\"\u001b[39m) \u001b[38;5;28;01mas\u001b[39;00m f:\n\u001b[0;32m      5\u001b[0m     time \u001b[38;5;241m=\u001b[39m f[\u001b[38;5;124m\"\u001b[39m\u001b[38;5;124mtime\u001b[39m\u001b[38;5;124m\"\u001b[39m][:]\n\u001b[0;32m      6\u001b[0m     position \u001b[38;5;241m=\u001b[39m f[\u001b[38;5;124m\"\u001b[39m\u001b[38;5;124mposition\u001b[39m\u001b[38;5;124m\"\u001b[39m][:]\n",
      "File \u001b[1;32m~\\AppData\\Local\\anaconda3\\Lib\\site-packages\\h5py\\_hl\\files.py:567\u001b[0m, in \u001b[0;36mFile.__init__\u001b[1;34m(self, name, mode, driver, libver, userblock_size, swmr, rdcc_nslots, rdcc_nbytes, rdcc_w0, track_order, fs_strategy, fs_persist, fs_threshold, fs_page_size, page_buf_size, min_meta_keep, min_raw_keep, locking, alignment_threshold, alignment_interval, meta_block_size, **kwds)\u001b[0m\n\u001b[0;32m    558\u001b[0m     fapl \u001b[38;5;241m=\u001b[39m make_fapl(driver, libver, rdcc_nslots, rdcc_nbytes, rdcc_w0,\n\u001b[0;32m    559\u001b[0m                      locking, page_buf_size, min_meta_keep, min_raw_keep,\n\u001b[0;32m    560\u001b[0m                      alignment_threshold\u001b[38;5;241m=\u001b[39malignment_threshold,\n\u001b[0;32m    561\u001b[0m                      alignment_interval\u001b[38;5;241m=\u001b[39malignment_interval,\n\u001b[0;32m    562\u001b[0m                      meta_block_size\u001b[38;5;241m=\u001b[39mmeta_block_size,\n\u001b[0;32m    563\u001b[0m                      \u001b[38;5;241m*\u001b[39m\u001b[38;5;241m*\u001b[39mkwds)\n\u001b[0;32m    564\u001b[0m     fcpl \u001b[38;5;241m=\u001b[39m make_fcpl(track_order\u001b[38;5;241m=\u001b[39mtrack_order, fs_strategy\u001b[38;5;241m=\u001b[39mfs_strategy,\n\u001b[0;32m    565\u001b[0m                      fs_persist\u001b[38;5;241m=\u001b[39mfs_persist, fs_threshold\u001b[38;5;241m=\u001b[39mfs_threshold,\n\u001b[0;32m    566\u001b[0m                      fs_page_size\u001b[38;5;241m=\u001b[39mfs_page_size)\n\u001b[1;32m--> 567\u001b[0m     fid \u001b[38;5;241m=\u001b[39m make_fid(name, mode, userblock_size, fapl, fcpl, swmr\u001b[38;5;241m=\u001b[39mswmr)\n\u001b[0;32m    569\u001b[0m \u001b[38;5;28;01mif\u001b[39;00m \u001b[38;5;28misinstance\u001b[39m(libver, \u001b[38;5;28mtuple\u001b[39m):\n\u001b[0;32m    570\u001b[0m     \u001b[38;5;28mself\u001b[39m\u001b[38;5;241m.\u001b[39m_libver \u001b[38;5;241m=\u001b[39m libver\n",
      "File \u001b[1;32m~\\AppData\\Local\\anaconda3\\Lib\\site-packages\\h5py\\_hl\\files.py:231\u001b[0m, in \u001b[0;36mmake_fid\u001b[1;34m(name, mode, userblock_size, fapl, fcpl, swmr)\u001b[0m\n\u001b[0;32m    229\u001b[0m     \u001b[38;5;28;01mif\u001b[39;00m swmr \u001b[38;5;129;01mand\u001b[39;00m swmr_support:\n\u001b[0;32m    230\u001b[0m         flags \u001b[38;5;241m|\u001b[39m\u001b[38;5;241m=\u001b[39m h5f\u001b[38;5;241m.\u001b[39mACC_SWMR_READ\n\u001b[1;32m--> 231\u001b[0m     fid \u001b[38;5;241m=\u001b[39m h5f\u001b[38;5;241m.\u001b[39mopen(name, flags, fapl\u001b[38;5;241m=\u001b[39mfapl)\n\u001b[0;32m    232\u001b[0m \u001b[38;5;28;01melif\u001b[39;00m mode \u001b[38;5;241m==\u001b[39m \u001b[38;5;124m'\u001b[39m\u001b[38;5;124mr+\u001b[39m\u001b[38;5;124m'\u001b[39m:\n\u001b[0;32m    233\u001b[0m     fid \u001b[38;5;241m=\u001b[39m h5f\u001b[38;5;241m.\u001b[39mopen(name, h5f\u001b[38;5;241m.\u001b[39mACC_RDWR, fapl\u001b[38;5;241m=\u001b[39mfapl)\n",
      "File \u001b[1;32mh5py\\_objects.pyx:54\u001b[0m, in \u001b[0;36mh5py._objects.with_phil.wrapper\u001b[1;34m()\u001b[0m\n",
      "File \u001b[1;32mh5py\\_objects.pyx:55\u001b[0m, in \u001b[0;36mh5py._objects.with_phil.wrapper\u001b[1;34m()\u001b[0m\n",
      "File \u001b[1;32mh5py\\h5f.pyx:106\u001b[0m, in \u001b[0;36mh5py.h5f.open\u001b[1;34m()\u001b[0m\n",
      "\u001b[1;31mFileNotFoundError\u001b[0m: [Errno 2] Unable to open file (unable to open file: name = 'C:\\Users\\Tim\\AppData\\Local\\anaconda3\\Lib\\site-packages\\parrot\\example\\example_data\\light.h5', errno = 2, error message = 'No such file or directory', flags = 0, o_flags = 0)"
     ]
    }
   ],
   "source": [
    "def get_data(file_name):\n",
    "    \"\"\"We load the downloaded example files inside the parrot-module.\"\"\"\n",
    "    my_file = (resources.files(parrot.example.example_data) / file_name)\n",
    "    with h5py.File(my_file, \"r\") as f:\n",
    "        time = f[\"time\"][:]\n",
    "        position = f[\"position\"][:]\n",
    "        signal = f[\"signal\"][:]\n",
    "        data_dict = {\"time\": time, \"position\": position, \"signal\": signal}\n",
    "    return data_dict\n",
    "\n",
    "light = get_data(\"light.h5\")\n",
    "dark1 = get_data(\"dark1.h5\")\n",
    "dark2 = get_data(\"dark2.h5\")"
   ]
  },
  {
   "cell_type": "markdown",
   "id": "140f07fe-58c6-4e4a-ba22-fec28a5a6502",
   "metadata": {},
   "source": [
    "Each file (`light`, `dark1`, `dark2`) contains three arrays `time`, (shaker) `position` , and `signal`.\n",
    "It is important to have the square brackets with the colon to not only have a view on the data (which is gone when the file is close) but fully read-in the array."
   ]
  },
  {
   "cell_type": "markdown",
   "id": "384ce2b1-993d-4b30-88df-5a4fef69ca1f",
   "metadata": {},
   "source": [
    "Each file was stored inside a Python dictionary with three keys and three corresponding numpy arrays containg the values."
   ]
  },
  {
   "cell_type": "code",
   "execution_count": null,
   "id": "97743dd4-70bf-4e11-a188-2f87002eb6d2",
   "metadata": {},
   "outputs": [],
   "source": [
    "light"
   ]
  },
  {
   "cell_type": "markdown",
   "id": "72d93a48-cd23-4d8a-b60e-7cc7a3730011",
   "metadata": {},
   "source": [
    "Let us take a closer look on the data and plot the postion vs. time and the signal vs. time:"
   ]
  },
  {
   "cell_type": "code",
   "execution_count": null,
   "id": "cd1126fb-bfff-415a-9f26-e11596c3154e",
   "metadata": {},
   "outputs": [],
   "source": [
    "fig, ax = plt.subplots()\n",
    "ax.plot(light[\"time\"], light[\"position\"], color=\"tab:blue\")\n",
    "ax.grid(True)\n",
    "ax.xaxis.set_major_formatter(EngFormatter(\"s\"))\n",
    "ax.yaxis.set_major_formatter(EngFormatter(\"V\"))\n",
    "ax.set_ylabel(\"Position\", color=\"tab:blue\")\n",
    "ax.set_xlabel(\"Lab time\")\n",
    "\n",
    "ax2 = ax.twinx()\n",
    "ax2.plot(light[\"time\"], light[\"signal\"], color=\"tab:orange\")\n",
    "ax2.yaxis.set_major_formatter(EngFormatter(\"V\"))\n",
    "ax2.set_ylabel(\"Signal\", color=\"tab:orange\")\n",
    "plt.show(block=False)"
   ]
  },
  {
   "cell_type": "markdown",
   "id": "98ee56e8-c911-429a-9b79-afbba9744f87",
   "metadata": {},
   "source": [
    "We see that we have a 60 s measurement, but besides this is the data density too high. Let us zoom-in a bit more to see single THz traces:"
   ]
  },
  {
   "cell_type": "code",
   "execution_count": null,
   "id": "f928e414-ec12-4105-a418-38d4cb2c8578",
   "metadata": {},
   "outputs": [],
   "source": [
    "fig, ax = plt.subplots()\n",
    "ax.plot(light[\"time\"], light[\"position\"], color=\"tab:blue\")\n",
    "ax.grid(True)\n",
    "ax.xaxis.set_major_formatter(EngFormatter(\"s\"))\n",
    "ax.yaxis.set_major_formatter(EngFormatter(\"V\"))\n",
    "ax.set_ylabel(\"Position\", color=\"tab:blue\")\n",
    "ax.set_xlabel(\"Lab time\")\n",
    "\n",
    "ax2 = ax.twinx()\n",
    "ax2.plot(light[\"time\"], light[\"signal\"], color=\"tab:orange\")\n",
    "ax2.yaxis.set_major_formatter(EngFormatter(\"V\"))\n",
    "ax2.set_ylabel(\"Signal\", color=\"tab:orange\")\n",
    "\n",
    "ax.set_xlim([0,0.2])\n",
    "plt.show(block=False)"
   ]
  },
  {
   "cell_type": "markdown",
   "id": "7e4ce736-f43d-4dee-8e88-714b4621f637",
   "metadata": {},
   "source": [
    "We can detect the sinusoidal moving pattern (blue) of the oscillating delay line. It needs 100 ms for one period, meaning the shaker was running at 10 Hz. Since we see a THz trace when the shaker is moving forward as well backward, we get double the amount of traces, thus 20 THz traces / s.\n",
    "As expected, the signal is mirrored when the shaker moves backward. Additionally, there is some \"bending\" of the baseline of the THz trace, which is repeatable. *parrot* can compensate these systematic errors.\n",
    "\n",
    "This systematic error correction works best, when two dark measurements are supplied alongside the light measurement. A dark measurement has all the same recording settings, just the THz beam is blocked. This measures the noise floor and one can not only assess the system performance, but it also helps to correct systematic errors."
   ]
  },
  {
   "cell_type": "markdown",
   "id": "c70482eb-cd4a-4300-b9ac-8b873dabe83d",
   "metadata": {},
   "source": [
    "Since we alredy read-in our data, we don't need the `Load`-class of *parrot*. Instead, we can directly process the data with the `process`-module.\n",
    "\n",
    "There are multiple methods available to the user, depending on which dataset is available:\n",
    "1. `thz_and_two_darks`\n",
    "2. `thz_and_dark`\n",
    "4. `thz_only`\n",
    "5. `dark_only`"
   ]
  },
  {
   "cell_type": "markdown",
   "id": "9b545e48-00b3-4102-9592-b428fd955692",
   "metadata": {},
   "source": [
    "The only missing information is the conversion between the voltage recorded for the position channel and the corresponding delay in light time.\n",
    "A `scale`-factor needs to be supplied to facilitate [V] -> [s]. The oscillating delay line used for this example data is the [APE scanDelay 50 ps](https://www.ape-berlin.de/en/optical-delay/#1500043794885-e05f0280-1597).\n",
    "\n",
    "It has a calibrated voltage output of +-10 V (20 V peak-peak) for a corresponding delay of 50 ps."
   ]
  },
  {
   "cell_type": "code",
   "execution_count": null,
   "id": "a8d3afa9-f06a-454a-bcd6-c347e4e3a821",
   "metadata": {},
   "outputs": [],
   "source": [
    "scale = 50e-12 / 20"
   ]
  },
  {
   "cell_type": "markdown",
   "id": "8b8a4d07-eff3-4639-824c-06bffd81098b",
   "metadata": {},
   "source": [
    "The last setting to discuss is the `debug`-parameter. At various positions inside *parrot* a message with various priorities (`DEBUG`, `INFO`, and `WARNING`) is passed to an internal logger. When the parameter is not speficied, only log-messages of the kind `WARNING` will be passed to the user. When selecting `debug=True`, log-messages of the kind `INFO` and higher will be displayed."
   ]
  },
  {
   "cell_type": "markdown",
   "id": "4e33f742-e383-4b9c-b73c-00f9c6a5d12e",
   "metadata": {},
   "source": [
    "Parrot will first analyze the light dataset, where the THz data from the forward/backward movement of the delay stage is processed. \n",
    "A delay on the positional data will be adjusted, so that the single traces overlap and the standard deviation of all traces is minimized."
   ]
  },
  {
   "cell_type": "code",
   "execution_count": null,
   "id": "eaa23e47-db48-4ddc-86ac-d1508e2d927b",
   "metadata": {
    "scrolled": false
   },
   "outputs": [],
   "source": [
    "data = parrot.process.thz_and_two_darks(light, \n",
    "                                        dark1, \n",
    "                                        dark2, \n",
    "                                        scale=scale, \n",
    "                                        debug=True)"
   ]
  },
  {
   "cell_type": "markdown",
   "id": "d4a5f5c5-b888-4e6b-95e8-b985393c3c81",
   "metadata": {},
   "source": [
    "Afterwards, the `data` dictionary contains three keys for the three different measurements as well as one \"helping\" key, to keep track what function is applied to the data (so far no function):"
   ]
  },
  {
   "cell_type": "code",
   "execution_count": null,
   "id": "1183fee0-644f-4bd7-bac7-fadb2212186d",
   "metadata": {},
   "outputs": [],
   "source": [
    "data.keys()"
   ]
  },
  {
   "cell_type": "markdown",
   "id": "29fbf286-65e9-4b35-ab7a-9cbcd29a6499",
   "metadata": {},
   "source": [
    "All available information is combined within each key. The most important ones are `light_time`, `single_traces` and `average`. The first one is a 1-D numpy array, the second element is a 2-D numpy array, consisting of the interpolated sampling number times the number of single traces extracted from the continuous measurement. The last one, `average` is another python dictionary."
   ]
  },
  {
   "cell_type": "code",
   "execution_count": null,
   "id": "f9aef361-1e84-4e4c-90de-dffc62f14157",
   "metadata": {},
   "outputs": [],
   "source": [
    "data[\"light\"].keys()"
   ]
  },
  {
   "cell_type": "markdown",
   "id": "90db73bc-5f17-47bc-b705-e8eb3d49aa8c",
   "metadata": {},
   "source": [
    "The key `average` contains the averaged datset in `time_domain` and `frequency_domain`:"
   ]
  },
  {
   "cell_type": "code",
   "execution_count": null,
   "id": "2f97f767-aa9b-434a-b1e6-735214fdbff7",
   "metadata": {},
   "outputs": [],
   "source": [
    "data[\"light\"][\"average\"].keys()"
   ]
  },
  {
   "cell_type": "code",
   "execution_count": null,
   "id": "8e356af2-8110-4d42-b750-9356d3d9d27f",
   "metadata": {},
   "outputs": [],
   "source": [
    "fig, ax = plt.subplots()\n",
    "for mode in [\"light\", \"dark1\", \"dark2\"]:\n",
    "    ax.plot(data[mode][\"light_time\"], data[mode][\"average\"][\"time_domain\"], label=mode)\n",
    "ax.grid(True)\n",
    "ax.xaxis.set_major_formatter(EngFormatter(\"s\"))\n",
    "ax.yaxis.set_major_formatter(EngFormatter(\"V\"))\n",
    "ax.set_ylabel(\"Signal\")\n",
    "ax.set_xlabel(\"Light time\")\n",
    "ax.legend(loc=\"upper left\")\n",
    "plt.show(block=False)"
   ]
  },
  {
   "cell_type": "markdown",
   "id": "ef42739f-4c44-47b6-9404-96b53bdd176c",
   "metadata": {},
   "source": [
    "### When using the `plot`-module of *parrot*, we receive an **error**:"
   ]
  },
  {
   "cell_type": "code",
   "execution_count": null,
   "id": "f637cf15-987f-41b8-a8e4-e2ce7a871388",
   "metadata": {},
   "outputs": [],
   "source": [
    "parrot.plot.simple_multi_cycle(data)"
   ]
  },
  {
   "cell_type": "markdown",
   "id": "11effcea-930e-4da4-a7fe-36397ff7d54b",
   "metadata": {},
   "source": [
    "*parrot* makes us aware, that we have supplied two dark measurements but did not apply the systematic error correction from the `post_process_data`-module to our data. \n",
    "\n",
    "## Let us fix this problem:"
   ]
  },
  {
   "cell_type": "code",
   "execution_count": null,
   "id": "3fbb3ac5-3f0a-4390-930f-5ed74f4f9a71",
   "metadata": {},
   "outputs": [],
   "source": [
    "data = parrot.post_process_data.correct_systematic_errors(data)"
   ]
  },
  {
   "cell_type": "markdown",
   "id": "44677453",
   "metadata": {},
   "source": [
    "As we can see, another key was added to our `data`-dictionary, simply called `dark`. This `dark` dataset as well as the `light` dataset were corrected for systematic errors:"
   ]
  },
  {
   "cell_type": "code",
   "execution_count": null,
   "id": "4f94b7c3",
   "metadata": {},
   "outputs": [],
   "source": [
    "data.keys()"
   ]
  },
  {
   "cell_type": "markdown",
   "id": "676a5342",
   "metadata": {},
   "source": [
    "When taking a look to the key `applied_functions`, we can see that the applied function was also added to this list:"
   ]
  },
  {
   "cell_type": "code",
   "execution_count": null,
   "id": "8517c4e7",
   "metadata": {},
   "outputs": [],
   "source": [
    "data[\"applied_functions\"]"
   ]
  },
  {
   "cell_type": "code",
   "execution_count": null,
   "id": "80d51ae6-a279-4804-be12-058edc512c95",
   "metadata": {},
   "outputs": [],
   "source": [
    "parrot.plot.simple_multi_cycle(data)"
   ]
  },
  {
   "cell_type": "markdown",
   "id": "12fe79af-2853-4804-bc83-0a5d9ee2454b",
   "metadata": {},
   "source": [
    "The three subplots show the time domain and two times the frequency domain, once the amplitude on a normalized linear scale and once the power spectrum on a logarithmic scale in dB. Nevertheless, *parrot* is warning us, that we didn't window the data, yet. \n",
    "\n",
    "The logarithmic frequency domain highlights the introduced artifacts: The amplitude at higher frequencies fluctuates less than the dark traces. Furthermore, there is a slight offset im amplitude between THz data and dark data.\n",
    "\n",
    "## Let us fix this problem, too:"
   ]
  },
  {
   "cell_type": "code",
   "execution_count": null,
   "id": "c9037025-284c-46cd-bb8a-d2aeacb61b41",
   "metadata": {},
   "outputs": [],
   "source": [
    "data = parrot.post_process_data.window(data)"
   ]
  },
  {
   "cell_type": "code",
   "execution_count": null,
   "id": "260db620",
   "metadata": {},
   "outputs": [],
   "source": [
    "data[\"applied_functions\"]"
   ]
  },
  {
   "cell_type": "code",
   "execution_count": null,
   "id": "5c3c1fb7-b55a-4d4f-b7d0-2a5b75938680",
   "metadata": {},
   "outputs": [],
   "source": [
    "parrot.plot.simple_multi_cycle(data)"
   ]
  },
  {
   "cell_type": "code",
   "execution_count": null,
   "id": "274a6fbb-a16d-4264-84bf-5ec93681d7e3",
   "metadata": {},
   "outputs": [],
   "source": []
  }
 ],
 "metadata": {
  "kernelspec": {
   "display_name": "Python 3 (ipykernel)",
   "language": "python",
   "name": "python3"
  },
  "language_info": {
   "codemirror_mode": {
    "name": "ipython",
    "version": 3
   },
   "file_extension": ".py",
   "mimetype": "text/x-python",
   "name": "python",
   "nbconvert_exporter": "python",
   "pygments_lexer": "ipython3",
   "version": "3.11.5"
  }
 },
 "nbformat": 4,
 "nbformat_minor": 5
}
